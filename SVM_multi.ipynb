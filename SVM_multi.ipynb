{
 "cells": [
  {
   "cell_type": "code",
   "execution_count": 1,
   "metadata": {},
   "outputs": [],
   "source": [
    "import numpy as np\n",
    "import csv\n",
    "import random\n",
    "from sklearn.pipeline import make_pipeline\n",
    "from sklearn.preprocessing import StandardScaler\n",
    "from sklearn.svm import SVC\n",
    "import matplotlib.pyplot as plt"
   ]
  },
  {
   "cell_type": "code",
   "execution_count": 2,
   "metadata": {},
   "outputs": [
    {
     "data": {
      "image/png": "[encoded data removed]",
      "text/plain": [
       "<Figure size 432x288 with 1 Axes>"
      ]
     },
     "metadata": {
      "needs_background": "light"
     },
     "output_type": "display_data"
    }
   ],
   "source": [
    "base = []\n",
    "acc = []\n",
    "for i in range(100):\n",
    "    input = []\n",
    "    test = []\n",
    "    skip = True\n",
    "    with open('mfcc_full.csv', newline='') as csvfile:\n",
    "        csvreader = csv.reader(csvfile, delimiter=' ', quotechar='|')\n",
    "        for row in csvreader:\n",
    "            if(skip):\n",
    "                skip = False\n",
    "                continue\n",
    "            temp = []\n",
    "            for col in row:\n",
    "                temp = col.split(',')\n",
    "            #if(random.randint(1,10)%7!=0):\n",
    "                input.append(temp)\n",
    "            #else:\n",
    "                test.append(temp)\n",
    "    random.shuffle(input)\n",
    "    random.shuffle(test)\n",
    "    Y = [i[0] for i in input]\n",
    "    X = [(i[1:13]) for i in input]\n",
    "    for x in X:\n",
    "        for i in range(0,12):\n",
    "            x[i] = float(x[i])\n",
    "    test_Y = [i[0] for i in test]\n",
    "    test_X = [(i[1:13]) for i in test]\n",
    "    for t_x in test_X:\n",
    "        for i in range(0,12):\n",
    "            t_x[i] = float(t_x[i])\n",
    "\n",
    "    X_np = np.array(X)\n",
    "    Y_np = np.array(Y)\n",
    "    test_X_np = np.array(test_X)\n",
    "    test_Y_np = np.array(test_Y)\n",
    "\n",
    "    clf = make_pipeline(StandardScaler(), SVC(gamma='auto'))\n",
    "    clf.fit(X_np, Y_np)\n",
    "\n",
    "    pred = clf.predict(test_X_np)\n",
    "    #print(\"Prediction |   Actual   | Pred = Act?\")\n",
    "    #print(\"-------------------------------------\")\n",
    "    #for i in range(0,len(pred)):\n",
    "        #print(pred[i], \"      |\",test_Y_np[i],\"\\t|\", pred[i] == test_Y_np[i])\n",
    "    correct = []\n",
    "    for i in range(0,len(pred)):\n",
    "        correct.append(pred[i]==test_Y[i])\n",
    "        #print(test_Y[i],pred[i],pred[i]==test_Y[i],)\n",
    "    accuracy = correct.count(True)/len(correct)\n",
    "    uniq = set(test_Y)\n",
    "    baseline = 0\n",
    "    for u in uniq:\n",
    "        if(test_Y.count(u)>baseline):\n",
    "            baseline = test_Y.count(u)\n",
    "    baseline /= len(correct)\n",
    "\n",
    "    base.append(baseline*100)\n",
    "    acc.append(accuracy*100)\n",
    "\n",
    "    #print(\"-------------------------------------\")\n",
    "    #print(\"Baseline: \",baseline,\"\\nAccuracy: \",accuracy)\n",
    "plt.plot(acc)\n",
    "plt.plot(base)\n",
    "plt.grid()"
   ]
  },
  {
   "cell_type": "code",
   "execution_count": 3,
   "metadata": {},
   "outputs": [
    {
     "name": "stdout",
     "output_type": "stream",
     "text": [
      "Mean Baseline :  50.15197568389058\n",
      "Mean Accuracy :  86.62613981762918\n"
     ]
    }
   ],
   "source": [
    "import statistics as stats\n",
    "print(\"Mean Baseline : \",stats.mean(base))\n",
    "print(\"Mean Accuracy : \",stats.mean(acc))"
   ]
  },
  {
   "cell_type": "code",
   "execution_count": null,
   "metadata": {},
   "outputs": [],
   "source": []
  }
 ],
 "metadata": {
  "kernelspec": {
   "display_name": "Python 3",
   "language": "python",
   "name": "python3"
  },
  "language_info": {
   "codemirror_mode": {
    "name": "ipython",
    "version": 3
   },
   "file_extension": ".py",
   "mimetype": "text/x-python",
   "name": "python",
   "nbconvert_exporter": "python",
   "pygments_lexer": "ipython3",
   "version": "3.8.3"
  }
 },
 "nbformat": 4,
 "nbformat_minor": 4
}
