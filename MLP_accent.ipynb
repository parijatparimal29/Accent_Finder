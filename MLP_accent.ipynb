{
 "cells": [
  {
   "cell_type": "code",
   "execution_count": 90,
   "metadata": {},
   "outputs": [],
   "source": [
    "import csv\n",
    "import random\n",
    "from sklearn.neural_network import MLPClassifier\n",
    "from sklearn import preprocessing\n",
    "import numpy as np"
   ]
  },
  {
   "cell_type": "code",
   "execution_count": 91,
   "metadata": {},
   "outputs": [],
   "source": [
    "input = []\n",
    "test = []\n",
    "skip = True\n",
    "with open('mfcc_test.csv', newline='') as csvfile:\n",
    "    csvreader = csv.reader(csvfile, delimiter=' ', quotechar='|')\n",
    "    for row in csvreader:\n",
    "        if(skip):\n",
    "            skip = False\n",
    "            continue\n",
    "        temp = []\n",
    "        for col in row:\n",
    "            temp = col.split(',')\n",
    "        if(random.randint(1,10)%7!=0):\n",
    "            input.append(temp)\n",
    "        else:\n",
    "            test.append(temp)\n",
    "random.shuffle(input)\n",
    "random.shuffle(test)\n",
    "Y = [i[0] for i in input]\n",
    "X = [(i[1:13]) for i in input]\n",
    "for x in X:\n",
    "    for i in range(0,12):\n",
    "        x[i] = float(x[i])\n",
    "test_Y = [i[0] for i in test]\n",
    "test_X = [(i[1:13]) for i in test]\n",
    "for t_x in test_X:\n",
    "    for i in range(0,12):\n",
    "        t_x[i] = float(t_x[i])"
   ]
  },
  {
   "cell_type": "code",
   "execution_count": 92,
   "metadata": {},
   "outputs": [],
   "source": [
    "X_train = np.array(X)\n",
    "X_scaled = preprocessing.scale(X_train)\n"
   ]
  },
  {
   "cell_type": "code",
   "execution_count": 93,
   "metadata": {},
   "outputs": [
    {
     "data": {
      "text/plain": [
       "MLPClassifier(alpha=1e-05, hidden_layer_sizes=(50,), random_state=2,\n",
       "              solver='lbfgs')"
      ]
     },
     "execution_count": 93,
     "metadata": {},
     "output_type": "execute_result"
    }
   ],
   "source": [
    "clf = MLPClassifier(solver='lbfgs', alpha=1e-5, hidden_layer_sizes=(50,), random_state=2)\n",
    "clf.fit(X_scaled, Y)"
   ]
  },
  {
   "cell_type": "code",
   "execution_count": 94,
   "metadata": {},
   "outputs": [
    {
     "name": "stdout",
     "output_type": "stream",
     "text": [
      "Baseline:  0.5 \n",
      "Accuracy:  0.6\n"
     ]
    }
   ],
   "source": [
    "pred = clf.predict(test_X)\n",
    "correct = []\n",
    "for i in range(0,len(pred)):\n",
    "    correct.append(pred[i]==test_Y[i])\n",
    "    #print(test_Y[i],pred[i],pred[i]==test_Y[i],)\n",
    "accuracy = correct.count(True)/len(correct)\n",
    "uniq = set(test_Y)\n",
    "baseline = 0\n",
    "for u in uniq:\n",
    "    if(test_Y.count(u)>baseline):\n",
    "        baseline = test_Y.count(u)\n",
    "baseline /= len(correct)\n",
    "print(\"Baseline: \",baseline,\"\\nAccuracy: \",accuracy)"
   ]
  },
  {
   "cell_type": "code",
   "execution_count": null,
   "metadata": {},
   "outputs": [],
   "source": []
  }
 ],
 "metadata": {
  "kernelspec": {
   "display_name": "Python 3",
   "language": "python",
   "name": "python3"
  },
  "language_info": {
   "codemirror_mode": {
    "name": "ipython",
    "version": 3
   },
   "file_extension": ".py",
   "mimetype": "text/x-python",
   "name": "python",
   "nbconvert_exporter": "python",
   "pygments_lexer": "ipython3",
   "version": "3.8.3"
  }
 },
 "nbformat": 4,
 "nbformat_minor": 4
}
