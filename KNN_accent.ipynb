{
 "cells": [
  {
   "cell_type": "code",
   "execution_count": 1,
   "metadata": {},
   "outputs": [],
   "source": [
    "from sklearn.neighbors import KNeighborsClassifier\n",
    "import csv\n",
    "import random\n",
    "from sklearn import preprocessing\n",
    "import numpy as np"
   ]
  },
  {
   "cell_type": "code",
   "execution_count": 2,
   "metadata": {},
   "outputs": [],
   "source": [
    "input = []\n",
    "test = []\n",
    "skip = True\n",
    "with open('mfcc_full.csv', newline='') as csvfile:\n",
    "    csvreader = csv.reader(csvfile, delimiter=' ', quotechar='|')\n",
    "    for row in csvreader:\n",
    "        if(skip):\n",
    "            skip = False\n",
    "            continue\n",
    "        temp = []\n",
    "        for col in row:\n",
    "            temp = col.split(',')\n",
    "        if(random.randint(1,12)%7!=0):\n",
    "            input.append(temp)\n",
    "        else:\n",
    "            test.append(temp)\n",
    "random.shuffle(input)\n",
    "random.shuffle(test)\n",
    "Y = [i[0] for i in input]\n",
    "X = [(i[1:13]) for i in input]\n",
    "for x in X:\n",
    "    for i in range(0,12):\n",
    "        x[i] = float(x[i])\n",
    "test_Y = [i[0] for i in test]\n",
    "test_X = [(i[1:13]) for i in test]\n",
    "for t_x in test_X:\n",
    "    for i in range(0,12):\n",
    "        t_x[i] = float(t_x[i])"
   ]
  },
  {
   "cell_type": "code",
   "execution_count": 3,
   "metadata": {},
   "outputs": [],
   "source": [
    "X_train = np.array(X)\n",
    "X_scaled = preprocessing.scale(X_train)"
   ]
  },
  {
   "cell_type": "code",
   "execution_count": 4,
   "metadata": {},
   "outputs": [
    {
     "data": {
      "text/plain": [
       "KNeighborsClassifier(n_neighbors=30)"
      ]
     },
     "execution_count": 4,
     "metadata": {},
     "output_type": "execute_result"
    }
   ],
   "source": [
    "neigh = KNeighborsClassifier(n_neighbors=30)\n",
    "neigh.fit(X_scaled, Y)"
   ]
  },
  {
   "cell_type": "code",
   "execution_count": 5,
   "metadata": {},
   "outputs": [
    {
     "name": "stdout",
     "output_type": "stream",
     "text": [
      "['\"US\"' '\"US\"' '\"US\"' '\"US\"' '\"US\"' '\"US\"' '\"US\"' '\"US\"' '\"US\"' '\"US\"'\n",
      " '\"US\"' '\"US\"' '\"ES\"' '\"US\"' '\"US\"' '\"US\"' '\"US\"' '\"US\"' '\"US\"' '\"US\"'\n",
      " '\"US\"' '\"US\"' '\"US\"' '\"US\"']\n",
      "[[0.4        0.1        0.         0.06666667 0.         0.43333333]\n",
      " [0.33333333 0.06666667 0.03333333 0.1        0.03333333 0.43333333]\n",
      " [0.26666667 0.06666667 0.06666667 0.06666667 0.         0.53333333]\n",
      " [0.         0.1        0.         0.1        0.1        0.7       ]\n",
      " [0.         0.         0.         0.         0.         1.        ]\n",
      " [0.33333333 0.06666667 0.         0.03333333 0.         0.56666667]\n",
      " [0.2        0.33333333 0.         0.03333333 0.         0.43333333]\n",
      " [0.23333333 0.03333333 0.13333333 0.16666667 0.06666667 0.36666667]\n",
      " [0.3        0.16666667 0.         0.06666667 0.         0.46666667]\n",
      " [0.3        0.1        0.         0.03333333 0.         0.56666667]\n",
      " [0.36666667 0.13333333 0.         0.03333333 0.         0.46666667]\n",
      " [0.33333333 0.13333333 0.         0.06666667 0.         0.46666667]\n",
      " [0.4        0.13333333 0.         0.06666667 0.03333333 0.36666667]\n",
      " [0.33333333 0.1        0.         0.         0.         0.56666667]\n",
      " [0.36666667 0.16666667 0.         0.03333333 0.         0.43333333]\n",
      " [0.36666667 0.03333333 0.         0.06666667 0.         0.53333333]\n",
      " [0.3        0.1        0.         0.06666667 0.         0.53333333]\n",
      " [0.3        0.13333333 0.         0.         0.         0.56666667]\n",
      " [0.         0.03333333 0.16666667 0.13333333 0.03333333 0.63333333]\n",
      " [0.13333333 0.1        0.1        0.06666667 0.03333333 0.56666667]\n",
      " [0.36666667 0.13333333 0.         0.03333333 0.         0.46666667]\n",
      " [0.4        0.13333333 0.         0.03333333 0.         0.43333333]\n",
      " [0.4        0.1        0.         0.06666667 0.         0.43333333]\n",
      " [0.36666667 0.06666667 0.         0.         0.         0.56666667]]\n",
      "Baseline:  0.5 \n",
      "Accuracy:  0.5416666666666666\n"
     ]
    }
   ],
   "source": [
    "pred = neigh.predict(test_X)\n",
    "prob = neigh.predict_proba(test_X)\n",
    "print(pred)\n",
    "#print(test_Y)\n",
    "print(prob)\n",
    "correct = []\n",
    "for i in range(0,len(pred)):\n",
    "    correct.append(pred[i]==test_Y[i])\n",
    "    #print(test_Y[i],pred[i],pred[i]==test_Y[i],)\n",
    "accuracy = correct.count(True)/len(correct)\n",
    "uniq = set(test_Y)\n",
    "baseline = 0\n",
    "for u in uniq:\n",
    "    if(test_Y.count(u)>baseline):\n",
    "        baseline = test_Y.count(u)\n",
    "baseline /= len(correct)\n",
    "print(\"Baseline: \",baseline,\"\\nAccuracy: \",accuracy)"
   ]
  },
  {
   "cell_type": "code",
   "execution_count": null,
   "metadata": {},
   "outputs": [],
   "source": []
  }
 ],
 "metadata": {
  "kernelspec": {
   "display_name": "Python 3",
   "language": "python",
   "name": "python3"
  },
  "language_info": {
   "codemirror_mode": {
    "name": "ipython",
    "version": 3
   },
   "file_extension": ".py",
   "mimetype": "text/x-python",
   "name": "python",
   "nbconvert_exporter": "python",
   "pygments_lexer": "ipython3",
   "version": "3.8.3"
  }
 },
 "nbformat": 4,
 "nbformat_minor": 4
}
