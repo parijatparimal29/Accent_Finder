{
 "cells": [
  {
   "cell_type": "code",
   "execution_count": 1,
   "metadata": {},
   "outputs": [],
   "source": [
    "import numpy as np\n",
    "import csv\n",
    "import random\n",
    "from sklearn.pipeline import make_pipeline\n",
    "from sklearn.preprocessing import StandardScaler\n",
    "from sklearn.svm import SVC"
   ]
  },
  {
   "cell_type": "code",
   "execution_count": 2,
   "metadata": {},
   "outputs": [],
   "source": [
    "input = []\n",
    "test = []\n",
    "skip = True\n",
    "with open('mfcc_full.csv', newline='') as csvfile:\n",
    "    csvreader = csv.reader(csvfile, delimiter=' ', quotechar='|')\n",
    "    for row in csvreader:\n",
    "        if(skip):\n",
    "            skip = False\n",
    "            continue\n",
    "        temp = []\n",
    "        for col in row:\n",
    "            temp = col.split(',')\n",
    "        if(random.randint(1,14)%7!=0):\n",
    "            input.append(temp)\n",
    "        else:\n",
    "            test.append(temp)\n",
    "random.shuffle(input)\n",
    "random.shuffle(test)\n",
    "Y = [i[0] for i in input]\n",
    "X = [(i[1:13]) for i in input]\n",
    "for x in X:\n",
    "    for i in range(0,12):\n",
    "        x[i] = float(x[i])\n",
    "test_Y = [i[0] for i in test]\n",
    "test_X = [(i[1:13]) for i in test]"
   ]
  },
  {
   "cell_type": "code",
   "execution_count": 3,
   "metadata": {},
   "outputs": [],
   "source": [
    "#test_X.append([-446.17203, 86.41362, -37.32707, 22.530045, -27.792871, -1.7407547, -13.667137, -4.578425, -2.7285383, 2.6576104, -6.145138, -4.5462])\n",
    "#test_X.append([-343.81708, 111.405876, 3.4760096, 19.291569, 16.690908, 6.3878136, -3.4377365, -0.109683715, -0.96885836, 2.2390208, 6.9036717, -1.8170358])\n",
    "#test_Y.append('\"FR\"')\n",
    "#test_Y.append('\"ES\"')\n",
    "\n",
    "\n",
    "for t_x in test_X:\n",
    "    for i in range(0,12):\n",
    "        t_x[i] = float(t_x[i])\n",
    "\n",
    "X_np = np.array(X)\n",
    "Y_np = np.array(Y)\n",
    "test_X_np = np.array(test_X)\n",
    "test_Y_np = np.array(test_Y)"
   ]
  },
  {
   "cell_type": "code",
   "execution_count": 4,
   "metadata": {},
   "outputs": [
    {
     "data": {
      "text/plain": [
       "Pipeline(steps=[('standardscaler', StandardScaler()),\n",
       "                ('svc', SVC(gamma='auto'))])"
      ]
     },
     "execution_count": 4,
     "metadata": {},
     "output_type": "execute_result"
    }
   ],
   "source": [
    "#print(len(X[0]))\n",
    "clf = make_pipeline(StandardScaler(), SVC(gamma='auto'))\n",
    "clf.fit(X_np, Y_np)"
   ]
  },
  {
   "cell_type": "code",
   "execution_count": 5,
   "metadata": {},
   "outputs": [
    {
     "name": "stdout",
     "output_type": "stream",
     "text": [
      "Prediction |   Actual   | Pred = Act?\n",
      "-------------------------------------\n",
      "\"UK\"       | \"UK\" \t| True\n",
      "\"US\"       | \"US\" \t| True\n",
      "\"US\"       | \"US\" \t| True\n",
      "\"US\"       | \"US\" \t| True\n",
      "\"GE\"       | \"GE\" \t| True\n",
      "\"US\"       | \"US\" \t| True\n",
      "\"IT\"       | \"FR\" \t| False\n",
      "\"FR\"       | \"FR\" \t| True\n",
      "\"ES\"       | \"US\" \t| False\n",
      "\"US\"       | \"US\" \t| True\n",
      "\"US\"       | \"US\" \t| True\n",
      "\"US\"       | \"US\" \t| True\n",
      "\"ES\"       | \"ES\" \t| True\n",
      "\"US\"       | \"US\" \t| True\n",
      "\"UK\"       | \"UK\" \t| True\n",
      "\"US\"       | \"US\" \t| True\n",
      "\"US\"       | \"US\" \t| True\n",
      "\"US\"       | \"US\" \t| True\n",
      "\"GE\"       | \"GE\" \t| True\n",
      "\"IT\"       | \"UK\" \t| False\n",
      "\"US\"       | \"US\" \t| True\n",
      "\"US\"       | \"US\" \t| True\n",
      "\"ES\"       | \"ES\" \t| True\n",
      "\"US\"       | \"US\" \t| True\n",
      "\"UK\"       | \"UK\" \t| True\n",
      "\"US\"       | \"ES\" \t| False\n",
      "\"ES\"       | \"ES\" \t| True\n",
      "\"US\"       | \"US\" \t| True\n",
      "\"US\"       | \"US\" \t| True\n",
      "\"US\"       | \"US\" \t| True\n",
      "\"US\"       | \"US\" \t| True\n",
      "\"FR\"       | \"FR\" \t| True\n",
      "\"US\"       | \"FR\" \t| False\n",
      "\"US\"       | \"US\" \t| True\n",
      "\"IT\"       | \"IT\" \t| True\n",
      "\"US\"       | \"US\" \t| True\n",
      "\"GE\"       | \"GE\" \t| True\n",
      "\"IT\"       | \"IT\" \t| True\n",
      "\"FR\"       | \"FR\" \t| True\n",
      "\"FR\"       | \"FR\" \t| True\n",
      "\"US\"       | \"US\" \t| True\n",
      "\"UK\"       | \"UK\" \t| True\n",
      "\"ES\"       | \"ES\" \t| True\n",
      "\"US\"       | \"US\" \t| True\n",
      "\"US\"       | \"US\" \t| True\n",
      "\"US\"       | \"US\" \t| True\n",
      "\"FR\"       | \"FR\" \t| True\n",
      "\"US\"       | \"US\" \t| True\n",
      "\"US\"       | \"US\" \t| True\n",
      "\"FR\"       | \"FR\" \t| True\n",
      "\"US\"       | \"US\" \t| True\n",
      "\"US\"       | \"US\" \t| True\n",
      "\"US\"       | \"US\" \t| True\n",
      "\"IT\"       | \"UK\" \t| False\n",
      "-------------------------------------\n",
      "Baseline:  0.5555555555555556 \n",
      "Accuracy:  0.8888888888888888\n"
     ]
    }
   ],
   "source": [
    "pred = clf.predict(test_X_np)\n",
    "print(\"Prediction |   Actual   | Pred = Act?\")\n",
    "print(\"-------------------------------------\")\n",
    "for i in range(0,len(pred)):\n",
    "    print(pred[i], \"      |\",test_Y_np[i],\"\\t|\", pred[i] == test_Y_np[i])\n",
    "correct = []\n",
    "for i in range(0,len(pred)):\n",
    "    correct.append(pred[i]==test_Y[i])\n",
    "    #print(test_Y[i],pred[i],pred[i]==test_Y[i],)\n",
    "accuracy = correct.count(True)/len(correct)\n",
    "uniq = set(test_Y)\n",
    "baseline = 0\n",
    "for u in uniq:\n",
    "    if(test_Y.count(u)>baseline):\n",
    "        baseline = test_Y.count(u)\n",
    "baseline /= len(correct)\n",
    "print(\"-------------------------------------\")\n",
    "print(\"Baseline: \",baseline,\"\\nAccuracy: \",accuracy)"
   ]
  },
  {
   "cell_type": "code",
   "execution_count": null,
   "metadata": {},
   "outputs": [],
   "source": []
  }
 ],
 "metadata": {
  "kernelspec": {
   "display_name": "Python 3",
   "language": "python",
   "name": "python3"
  },
  "language_info": {
   "codemirror_mode": {
    "name": "ipython",
    "version": 3
   },
   "file_extension": ".py",
   "mimetype": "text/x-python",
   "name": "python",
   "nbconvert_exporter": "python",
   "pygments_lexer": "ipython3",
   "version": "3.8.3"
  }
 },
 "nbformat": 4,
 "nbformat_minor": 4
}
